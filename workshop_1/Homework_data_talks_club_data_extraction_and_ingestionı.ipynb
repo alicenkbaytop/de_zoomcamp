{
  "nbformat": 4,
  "nbformat_minor": 0,
  "metadata": {
    "colab": {
      "provenance": []
    },
    "kernelspec": {
      "name": "python3",
      "display_name": "Python 3"
    },
    "language_info": {
      "name": "python"
    }
  },
  "cells": [
    {
      "cell_type": "markdown",
      "source": [
        "# **Homework**: Data talks club data engineering zoomcamp Data loading workshop\n",
        "\n",
        "Hello folks, let's practice what we learned - Loading data with the best practices of data engineering.\n",
        "\n",
        "Here are the exercises we will do\n",
        "\n",
        "\n"
      ],
      "metadata": {
        "id": "mrTFv5nPClXh"
      }
    },
    {
      "cell_type": "markdown",
      "source": [
        "# 1. Use a generator\n",
        "\n",
        "Remember the concept of generator? Let's practice using them to futher our understanding of how they work.\n",
        "\n",
        "Let's define a generator and then run it as practice.\n",
        "\n",
        "**Answer the following questions:**\n",
        "\n",
        "- **Question 1: What is the sum of the outputs of the generator for limit = 5?**\n",
        "- **Question 2: What is the 13th number yielded**\n",
        "\n",
        "I suggest practicing these questions without GPT as the purpose is to further your learning."
      ],
      "metadata": {
        "id": "wLF4iXf-NR7t"
      }
    },
    {
      "cell_type": "code",
      "source": [
        "def square_root_generator(limit):\n",
        "    n = 1\n",
        "    while n <= limit:\n",
        "        yield n ** 0.5\n",
        "        n += 1\n",
        "\n",
        "# Q1\n",
        "limit = 5\n",
        "generator = square_root_generator(limit)\n",
        "sum_of_outputs = sum(sqrt_value for sqrt_value in generator)\n",
        "print(\"Sum of outputs for limit = 5:\", sum_of_outputs)\n",
        "\n",
        "# Q2\n",
        "generator = square_root_generator(13)\n",
        "thirteenth_value = None\n",
        "for i, sqrt_value in enumerate(generator, 1):\n",
        "    if i == 13:\n",
        "        thirteenth_value = sqrt_value\n",
        "        break\n",
        "print(\"13th number yielded by the generator:\", thirteenth_value)\n"
      ],
      "metadata": {
        "colab": {
          "base_uri": "https://localhost:8080/"
        },
        "id": "wLng-bDJN4jf",
        "outputId": "d82bf1b9-6b0c-46ec-d7b4-caeaecbe08f7"
      },
      "execution_count": null,
      "outputs": [
        {
          "output_type": "stream",
          "name": "stdout",
          "text": [
            "Sum of outputs for limit = 5: 8.382332347441762\n",
            "13th number yielded by the generator: 3.605551275463989\n"
          ]
        }
      ]
    },
    {
      "cell_type": "markdown",
      "source": [],
      "metadata": {
        "id": "xbe3q55zN43j"
      }
    },
    {
      "cell_type": "markdown",
      "source": [
        "# 2. Append a generator to a table with existing data\n",
        "\n",
        "\n",
        "Below you have 2 generators. You will be tasked to load them to duckdb and answer some questions from the data\n",
        "\n",
        "1. Load the first generator and calculate the sum of ages of all people. Make sure to only load it once.\n",
        "2. Append the second generator to the same table as the first.\n",
        "3. **After correctly appending the data, calculate the sum of all ages of people.**\n",
        "\n",
        "\n"
      ],
      "metadata": {
        "id": "vjWhILzGJMpK"
      }
    },
    {
      "cell_type": "code",
      "execution_count": null,
      "metadata": {
        "colab": {
          "base_uri": "https://localhost:8080/"
        },
        "id": "2MoaQcdLBEk6",
        "outputId": "947d8c42-c301-4cb7-e38f-da8dd4a687bd"
      },
      "outputs": [
        {
          "output_type": "stream",
          "name": "stdout",
          "text": [
            "Sum of ages of all people after loading the first generator: 353\n",
            "Sum of ages of all people after appending the second generator: 353\n"
          ]
        }
      ],
      "source": [
        "import duckdb\n",
        "\n",
        "# Create connection to DuckDB\n",
        "con = duckdb.connect(database=':memory:', read_only=False)\n",
        "\n",
        "# Define the first generator\n",
        "def people_1():\n",
        "    for i in range(1, 6):\n",
        "        yield {\"ID\": i, \"Name\": f\"Person_{i}\", \"Age\": 25 + i, \"City\": \"City_A\"}\n",
        "\n",
        "# Create a table for the first generator data\n",
        "con.execute(\"\"\"\n",
        "CREATE TABLE people (\n",
        "    ID INTEGER,\n",
        "    Name VARCHAR,\n",
        "    Age INTEGER,\n",
        "    City VARCHAR,\n",
        "    Occupation VARCHAR\n",
        ")\n",
        "\"\"\")\n",
        "\n",
        "# Insert data from the first generator into the table\n",
        "for person in people_1():\n",
        "    con.execute(\"INSERT INTO people VALUES (?, ?, ?, ?, NULL)\", (person[\"ID\"], person[\"Name\"], person[\"Age\"], person[\"City\"]))\n",
        "\n",
        "# Define the second generator\n",
        "def people_2():\n",
        "    for i in range(3, 9):\n",
        "        yield {\"ID\": i, \"Name\": f\"Person_{i}\", \"Age\": 30 + i, \"City\": \"City_B\", \"Occupation\": f\"Job_{i}\"}\n",
        "\n",
        "# Append data from the second generator to the same table\n",
        "for person in people_2():\n",
        "    con.execute(\"INSERT INTO people VALUES (?, ?, ?, ?, ?)\", (person[\"ID\"], person[\"Name\"], person[\"Age\"], person[\"City\"], person[\"Occupation\"]))\n",
        "\n",
        "# Calculate the sum of ages of all people\n",
        "result_1 = con.execute(\"SELECT SUM(Age) FROM people\")\n",
        "sum_of_ages_1 = result_1.fetchone()[0]\n",
        "print(\"Sum of ages of all people after loading the first generator:\", sum_of_ages_1)\n",
        "\n",
        "# Calculate the sum of ages of all people after appending the second generator\n",
        "result_2 = con.execute(\"SELECT SUM(Age) FROM people\")\n",
        "sum_of_ages_2 = result_2.fetchone()[0]\n",
        "print(\"Sum of ages of all people after appending the second generator:\", sum_of_ages_2)\n",
        "\n",
        "# Close the connection\n",
        "con.close()\n"
      ]
    },
    {
      "cell_type": "markdown",
      "source": [],
      "metadata": {
        "id": "vtdTIm4fvQCN"
      }
    },
    {
      "cell_type": "markdown",
      "source": [
        "# 3. Merge a generator\n",
        "\n",
        "Re-use the generators from Exercise 2.\n",
        "\n",
        "A table's primary key needs to be created from the start, so load your data to a new table with primary key ID.\n",
        "\n",
        "Load your first generator first, and then load the second one with merge. Since they have overlapping IDs, some of the records from the first load should be replaced by the ones from the second load.\n",
        "\n",
        "After loading, you should have a total of 8 records, and ID 3 should have age 33.\n",
        "\n",
        "Question: **Calculate the sum of ages of all the people loaded as described above.**\n"
      ],
      "metadata": {
        "id": "pY4cFAWOSwN1"
      }
    },
    {
      "cell_type": "markdown",
      "source": [
        "# Solution: First make sure that the following modules are installed:"
      ],
      "metadata": {
        "id": "kKB2GTB9oVjr"
      }
    },
    {
      "cell_type": "code",
      "source": [
        "#Install the dependencies\n",
        "%%capture\n",
        "!pip install dlt[duckdb]"
      ],
      "metadata": {
        "id": "xTVvtyqrfVNq"
      },
      "execution_count": null,
      "outputs": []
    },
    {
      "cell_type": "code",
      "source": [
        "# to do: homework :)\n",
        "import duckdb\n",
        "\n",
        "# Create connection to DuckDB\n",
        "con = duckdb.connect(database=':memory:', read_only=False)\n",
        "\n",
        "# Define the first generator\n",
        "def people_1():\n",
        "    for i in range(1, 6):\n",
        "        yield {\"ID\": i, \"Name\": f\"Person_{i}\", \"Age\": 25 + i, \"City\": \"City_A\"}\n",
        "\n",
        "# Create a table for the data with primary key constraint\n",
        "con.execute(\"\"\"\n",
        "CREATE TABLE people (\n",
        "    ID INTEGER PRIMARY KEY,\n",
        "    Name VARCHAR,\n",
        "    Age INTEGER,\n",
        "    City VARCHAR,\n",
        "    Occupation VARCHAR\n",
        ")\n",
        "\"\"\")\n",
        "\n",
        "# Insert data from the first generator into the table\n",
        "for person in people_1():\n",
        "    con.execute(\"INSERT INTO people VALUES (?, ?, ?, ?, NULL)\", (person[\"ID\"], person[\"Name\"], person[\"Age\"], person[\"City\"]))\n",
        "\n",
        "# Define the second generator\n",
        "def people_2():\n",
        "    for i in range(3, 9):\n",
        "        yield {\"ID\": i, \"Name\": f\"Person_{i}\", \"Age\": 30 + i, \"City\": \"City_B\", \"Occupation\": f\"Job_{i}\"}\n",
        "\n",
        "# Merge data from the second generator into the table\n",
        "for person in people_2():\n",
        "    con.execute(\"INSERT OR REPLACE INTO people VALUES (?, ?, ?, ?, ?)\", (person[\"ID\"], person[\"Name\"], person[\"Age\"], person[\"City\"], person[\"Occupation\"]))\n",
        "\n",
        "# Calculate the sum of ages of all people\n",
        "result = con.execute(\"SELECT SUM(Age) FROM people\")\n",
        "sum_of_ages = result.fetchone()[0]\n",
        "print(\"Sum of ages of all people loaded:\", sum_of_ages)\n",
        "\n",
        "# Close the connection\n",
        "con.close()\n"
      ],
      "metadata": {
        "id": "a2-PRBAkGC2K",
        "colab": {
          "base_uri": "https://localhost:8080/"
        },
        "outputId": "11347732-a10f-42f8-c330-589aa4e689c6"
      },
      "execution_count": null,
      "outputs": [
        {
          "output_type": "stream",
          "name": "stdout",
          "text": [
            "Sum of ages of all people loaded: 266\n"
          ]
        }
      ]
    },
    {
      "cell_type": "markdown",
      "source": [
        "Questions? difficulties? We are here to help.\n",
        "- DTC data engineering course channel: https://datatalks-club.slack.com/archives/C01FABYF2RG\n",
        "- dlt's DTC cohort channel: https://dlthub-community.slack.com/archives/C06GAEX2VNX"
      ],
      "metadata": {
        "id": "PoTJu4kbGG0z"
      }
    }
  ]
}